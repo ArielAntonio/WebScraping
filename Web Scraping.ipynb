{
 "cells": [
  {
   "cell_type": "markdown",
   "metadata": {},
   "source": [
    "# Instalacion Librerias"
   ]
  },
  {
   "cell_type": "code",
   "execution_count": 1,
   "metadata": {
    "ExecuteTime": {
     "end_time": "2020-04-29T01:26:44.046095Z",
     "start_time": "2020-04-29T01:26:32.858860Z"
    }
   },
   "outputs": [],
   "source": [
    "import requests\n",
    "from bs4 import BeautifulSoup\n",
    "import pandas as pd"
   ]
  },
  {
   "cell_type": "markdown",
   "metadata": {},
   "source": [
    "# Peticion Get"
   ]
  },
  {
   "cell_type": "markdown",
   "metadata": {
    "ExecuteTime": {
     "end_time": "2020-04-20T00:47:30.721350Z",
     "start_time": "2020-04-20T00:47:30.670581Z"
    }
   },
   "source": [
    "Se prueba la peticion y aparecer el error 403 que significa que la petición es correcta pero el servidor se niega a ofrecerte el recurso o página web.\n",
    "La librería requests nos permite enviar solicitudes HTTP con Python"
   ]
  },
  {
   "cell_type": "code",
   "execution_count": 2,
   "metadata": {
    "ExecuteTime": {
     "end_time": "2020-04-29T01:26:45.696549Z",
     "start_time": "2020-04-29T01:26:44.052034Z"
    }
   },
   "outputs": [
    {
     "name": "stdout",
     "output_type": "stream",
     "text": [
      "<Response [403]>\n"
     ]
    }
   ],
   "source": [
    "paginaScrap = \"http://investing.com\"\n",
    "page = requests.get(paginaScrap)\n",
    "print(page)"
   ]
  },
  {
   "cell_type": "code",
   "execution_count": 3,
   "metadata": {
    "ExecuteTime": {
     "end_time": "2020-04-29T01:26:47.730637Z",
     "start_time": "2020-04-29T01:26:45.705520Z"
    }
   },
   "outputs": [
    {
     "name": "stdout",
     "output_type": "stream",
     "text": [
      "<Response [200]>\n"
     ]
    }
   ],
   "source": [
    "Url = \"http://investing.com\"\n",
    "headers = {'User-Agent': 'Mozilla/5.0 (Macintosh; Intel Mac OS X 10_11_5) AppleWebKit/537.36 (KHTML, like Gecko) Chrome/50.0.2661.102 Safari/537.36'}\n",
    "page = requests.get(Url, headers=headers)\n",
    "print(page)"
   ]
  },
  {
   "cell_type": "markdown",
   "metadata": {},
   "source": [
    "# BeautifulSoup "
   ]
  },
  {
   "cell_type": "code",
   "execution_count": 4,
   "metadata": {
    "ExecuteTime": {
     "end_time": "2020-04-29T01:26:47.767613Z",
     "start_time": "2020-04-29T01:26:47.732634Z"
    }
   },
   "outputs": [
    {
     "name": "stdout",
     "output_type": "stream",
     "text": [
      "<html><head><title>Hola mundo</title></head></html>\n"
     ]
    }
   ],
   "source": [
    "soup = BeautifulSoup(\"<html><title>Hola mundo</title></html>\",\"lxml\")\n",
    "print(soup)"
   ]
  },
  {
   "cell_type": "code",
   "execution_count": 5,
   "metadata": {
    "ExecuteTime": {
     "end_time": "2020-04-29T01:26:47.776623Z",
     "start_time": "2020-04-29T01:26:47.769613Z"
    }
   },
   "outputs": [
    {
     "name": "stdout",
     "output_type": "stream",
     "text": [
      "<html><title>Hola mundo</title></html>\n"
     ]
    }
   ],
   "source": [
    "soup = BeautifulSoup(\"<html><title>Hola mundo</title></html>\",\"html.parser\")\n",
    "print(soup)"
   ]
  },
  {
   "cell_type": "markdown",
   "metadata": {},
   "source": [
    "# Obtener Título Pagina"
   ]
  },
  {
   "cell_type": "code",
   "execution_count": 6,
   "metadata": {
    "ExecuteTime": {
     "end_time": "2020-04-29T01:26:48.167385Z",
     "start_time": "2020-04-29T01:26:47.778609Z"
    }
   },
   "outputs": [
    {
     "data": {
      "text/plain": [
       "'Investing.com - Stock Market Quotes & Financial News'"
      ]
     },
     "execution_count": 6,
     "metadata": {},
     "output_type": "execute_result"
    }
   ],
   "source": [
    "soup = BeautifulSoup(page.text, \"html.parser\")\n",
    "soup.title.string"
   ]
  },
  {
   "cell_type": "code",
   "execution_count": 7,
   "metadata": {
    "ExecuteTime": {
     "end_time": "2020-04-29T01:26:48.189376Z",
     "start_time": "2020-04-29T01:26:48.169385Z"
    }
   },
   "outputs": [
    {
     "name": "stdout",
     "output_type": "stream",
     "text": [
      "------------------\n",
      "Valor en Bitcoin (USD): 7,748.8\n",
      "------------------\n"
     ]
    }
   ],
   "source": [
    "tabla_Crypto = soup.find(class_='genTbl js-all-crypto-preview-table wideTbl elpTbl elp20 topCryptoHP')\n",
    "tr_all = tabla_Crypto.find_all('tr',{'i': '1057391'})\n",
    "\n",
    "Precio = tr_all[0].find_all('td',{'class':'price js-currency-price'})\n",
    "print(\"------------------\")\n",
    "print(\"Valor en Bitcoin (USD): {0}\".format(Precio[0].get_text()))\n",
    "print(\"------------------\")"
   ]
  },
  {
   "cell_type": "code",
   "execution_count": 8,
   "metadata": {
    "ExecuteTime": {
     "end_time": "2020-04-29T01:26:48.228350Z",
     "start_time": "2020-04-29T01:26:48.192371Z"
    }
   },
   "outputs": [
    {
     "name": "stdout",
     "output_type": "stream",
     "text": [
      "------------------\n",
      "Valor en Bitcoin (USD): 7,748.8\n",
      "------------------\n",
      "Valor en Ethereum (USD): 197.28\n",
      "------------------\n",
      "Valor en XRP (USD): 0.21483\n",
      "------------------\n",
      "Valor en Tether (USD): 1.0012\n",
      "------------------\n",
      "Valor en Bitcoin Cash (USD): 241.82\n"
     ]
    }
   ],
   "source": [
    "tabla_Crypto = soup.find(class_='genTbl js-all-crypto-preview-table wideTbl elpTbl elp20 topCryptoHP')\n",
    "tr_all = tabla_Crypto.find_all('tr')\n",
    "for sub_tr in tr_all: \n",
    "    Precio = sub_tr.find_all('td',{'class':'price js-currency-price'})\n",
    "    Nombre = sub_tr.find_all('td',{'class':'left bold elp name cryptoName first js-currency-name'})\n",
    "    #print(Nombre.isEmpty())\n",
    "    if(Nombre!=[]):\n",
    "        print(\"------------------\")\n",
    "        print('Valor en {0} (USD): {1}'.format(Nombre[0].get_text(),Precio[0].get_text()))\n",
    "    "
   ]
  },
  {
   "cell_type": "code",
   "execution_count": 9,
   "metadata": {
    "ExecuteTime": {
     "end_time": "2020-04-29T01:26:48.262330Z",
     "start_time": "2020-04-29T01:26:48.232348Z"
    }
   },
   "outputs": [
    {
     "name": "stdout",
     "output_type": "stream",
     "text": [
      "[['Bitcoin', '7748.8'], ['Ethereum', '197.28'], ['XRP', '0.21483'], ['Tether', '1.0012'], ['Bitcoin Cash', '241.82']]\n"
     ]
    }
   ],
   "source": [
    "tabla_Crypto = soup.find(class_='genTbl js-all-crypto-preview-table wideTbl elpTbl elp20 topCryptoHP')\n",
    "tr_all = tabla_Crypto.find_all('tr')\n",
    "ListaSave=[]\n",
    "for sub_tr in tr_all: \n",
    "    Precio = sub_tr.find_all('td',{'class':'price js-currency-price'})\n",
    "    Nombre = sub_tr.find_all('td',{'class':'left bold elp name cryptoName first js-currency-name'})\n",
    "    if(Nombre!=[]):\n",
    "        ListaSave.append([Nombre[0].get_text(),Precio[0].get_text().replace(\",\", \"\")])\n",
    "        \n",
    "print(ListaSave)"
   ]
  },
  {
   "cell_type": "code",
   "execution_count": 10,
   "metadata": {
    "ExecuteTime": {
     "end_time": "2020-04-29T01:26:48.450224Z",
     "start_time": "2020-04-29T01:26:48.266328Z"
    }
   },
   "outputs": [
    {
     "name": "stdout",
     "output_type": "stream",
     "text": [
      "         Nombre   Precio\n",
      "0       Bitcoin   7748.8\n",
      "1      Ethereum   197.28\n",
      "2           XRP  0.21483\n",
      "3        Tether   1.0012\n",
      "4  Bitcoin Cash   241.82\n"
     ]
    }
   ],
   "source": [
    "import pandas as pd\n",
    "#import os\n",
    "\n",
    "df = pd.DataFrame(ListaSave, columns= ['Nombre', 'Precio'])\n",
    "\n",
    "#os.remove(r\"export_Datos.csv\")\n",
    "\n",
    "df.to_csv (r'export_Datos.csv', index = False, header=True)\n",
    "\n",
    "print (df)"
   ]
  }
 ],
 "metadata": {
  "kernelspec": {
   "display_name": "Python 3",
   "language": "python",
   "name": "python3"
  },
  "language_info": {
   "codemirror_mode": {
    "name": "ipython",
    "version": 3
   },
   "file_extension": ".py",
   "mimetype": "text/x-python",
   "name": "python",
   "nbconvert_exporter": "python",
   "pygments_lexer": "ipython3",
   "version": "3.7.7"
  }
 },
 "nbformat": 4,
 "nbformat_minor": 4
}
